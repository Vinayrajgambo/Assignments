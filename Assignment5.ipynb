{
 "cells": [
  {
   "cell_type": "code",
   "execution_count": null,
   "metadata": {},
   "outputs": [],
   "source": [
    "1. What does an empty dictionary's code look like?\n",
    "Answer: my_dict= {}\n",
    "        my_dict= dict()"
   ]
  },
  {
   "cell_type": "code",
   "execution_count": null,
   "metadata": {},
   "outputs": [],
   "source": [
    "2. What is the value of a dictionary value with the key 'foo' and the value 42?\n",
    "Answer: my_dict={'foo':42}\n",
    "        value=my_dict['foo']\n",
    "        output value= 42"
   ]
  },
  {
   "cell_type": "code",
   "execution_count": null,
   "metadata": {},
   "outputs": [],
   "source": [
    "3. What is the most significant distinction between a dictionary and a list?\n",
    "Answer: lists are used when we need to store data in ordered collection and dictionary are used when we need to store the data in key- value pairs, unordered.\n",
    "        lists are accessed using index positons while dictionaries are accessed using the unique keys from the dictionary."
   ]
  },
  {
   "cell_type": "code",
   "execution_count": null,
   "metadata": {},
   "outputs": [],
   "source": [
    "4. What happens if you try to access spam['foo'] if spam is {'bar': 100}?\n",
    "Answer:  we key an keyerror which is undefined.\n",
    "          KeyError                                  Traceback (most recent call last)\n",
    "             <ipython-input-2-56a8e50c7ff8> in <cell line: 2>()\n",
    "             1 spam = {'bar': 100}\n",
    "             ---->2 spam['foo']\n",
    "\n",
    "          KeyError: 'foo'"
   ]
  },
  {
   "cell_type": "code",
   "execution_count": null,
   "metadata": {},
   "outputs": [],
   "source": [
    "5. If a dictionary is stored in spam, what is the difference between the expressions 'cat' in spam and\n",
    "'cat' in spam.keys()?\n",
    "Answer: Expression 'cat' in spam checks for keys named 'cat' in dictionary\n",
    "      where as 'cat' in spam.keys() extract the list of keys and then checks for value 'cat' from fro list of keys."
   ]
  },
  {
   "cell_type": "code",
   "execution_count": null,
   "metadata": {},
   "outputs": [],
   "source": [
    "6. If a dictionary is stored in spam, what is the difference between the expressions 'cat' in spam and\n",
    "'cat' in spam.values()?\n",
    "Answer: Expression 'cat' in spam checks for keys named 'cat' in dictionary\n",
    "      where as 'cat' in spam.values() extract the list of values and then checks for value 'cat' from fro list of values."
   ]
  },
  {
   "cell_type": "code",
   "execution_count": null,
   "metadata": {},
   "outputs": [],
   "source": [
    "7. What is a shortcut for the following code?\n",
    "if 'color' not in spam:\n",
    "  spam['color'] = 'black'\n",
    "Answer: spam.setdefault('color', 'black') is used as a shortcut code.\n",
    "        it check the key 'color' present in the spam if not then assign value 'black' to it. if already present it does nothing."
   ]
  },
  {
   "cell_type": "code",
   "execution_count": null,
   "metadata": {},
   "outputs": [],
   "source": [
    "8. How do you \"pretty print\" dictionary values using which module and function?\n",
    "Answer: Module pprint is used to use \"pretty print\"\n",
    "        Funciton pprint() is used to use \"pretty print\"\n",
    "        pretty print is used to print the complex data structures in formatted and organised manner.\n",
    "\n",
    "      eg   import pprint\n",
    "           my_dict= {'name': 'raj', 'age'=27, 'profession': 'Software engineer'}\n",
    "           pprint.pprint(my_dict)"
   ]
  }
 ],
 "metadata": {
  "language_info": {
   "name": "python"
  },
  "orig_nbformat": 4
 },
 "nbformat": 4,
 "nbformat_minor": 2
}
