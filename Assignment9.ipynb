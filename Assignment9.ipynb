{
 "cells": [
  {
   "cell_type": "code",
   "execution_count": null,
   "metadata": {},
   "outputs": [],
   "source": [
    "1. What is a lambda function in Python, and how does it differ from a regular function?\n",
    "Answer: Lamdba funciton are known as anonymous functions, are defined by using lambda keyword unlike functions use def keyword.\n",
    "        lambda funcitons can have multiple arguments but has only single expression to execute. but functions can can have multiple expressions.\n",
    "        Also lambda functions does'nt have name called as anonymous funcitons. whereas functions we define names by def keyword.\n",
    "\n",
    "        Lambda funtions are particularly useful when we need to define simple funcitons for short peiod of time and usually used where it is created.\n",
    "\n",
    "eg:\n",
    "def add_regular(a, b):\n",
    "    return a + b\n",
    "\n",
    "add_lambda = lambda a, b: a + b\n",
    "\n",
    "result1 = add_regular(5, 3)\n",
    "print(result1)  # Output: 8\n",
    "\n",
    "result2 = add_lambda(5, 3)\n",
    "print(result2)  # Output: 8"
   ]
  },
  {
   "cell_type": "code",
   "execution_count": null,
   "metadata": {},
   "outputs": [],
   "source": [
    "2. Can a lambda function in Python have multiple arguments? If yes, how can you define and use\n",
    "them?\n",
    "Answer: lambda funcitons can have multiple arguments but has only single expression to execute. but functions can can have multiple expressions.\n",
    "\n",
    "add_lambda = lambda a, b: a + b\n",
    "\n",
    "result1 = add_regular(5, 3)\n",
    "print(result1)  # Output: 8"
   ]
  },
  {
   "cell_type": "code",
   "execution_count": null,
   "metadata": {},
   "outputs": [],
   "source": [
    "3. How are lambda functions typically used in Python? Provide an example use case.\n",
    "Answer: Lambda functions are known as anonymous functions, are typically used in Python for short and simple operations that are required for a short duration.\n",
    "They are used with map(), Reduce(), Filter()  and sorted().\n",
    "eg:\n",
    "num = [2,4,6,8,10,12,14]\n",
    "\n",
    "squares= list(map(lambda x:  x**2,num))\n",
    "print(squares)\n"
   ]
  },
  {
   "cell_type": "code",
   "execution_count": null,
   "metadata": {},
   "outputs": [],
   "source": [
    "4. What are the advantages and limitations of lambda functions compared to regular functions in\n",
    "Python?\n",
    "Answer: Lamdba functions are defined by lamdba keyword. which are used for short and simple operations.\n",
    "        They dont need to any name and suitable for one time use only.\n",
    "        They are best for small and single line operations for higher order funcitons we use map(), reduce() and filter() with lambda functions.\n",
    "\n",
    "disadvanges: They are limited for single line funcitons, cannot be used for complex functions.\n",
    "             They dont support doc strings. This can make them less explanatory.\n",
    "             Due to restricted scope and single expresstion limitaiton. These are used only for simple and one time operaiton.\n",
    "             Using them for more complex operations can lead to reduced readability and maintainability compared to using regular functions.\n",
    "             When an error occurs inside a lambda function, the traceback may not provide a meaningful function name to identify the problematic code"
   ]
  },
  {
   "cell_type": "code",
   "execution_count": null,
   "metadata": {},
   "outputs": [],
   "source": [
    "5. Are lambda functions in Python able to access variables defined outside of their own scope?\n",
    "Explain with an example.\n",
    "Answer: Yes lambda functions can access variables ouside thier own scope. When lamdba fucntion is created it will capture all the variables that are in scope.\n",
    " These variables are avaialble to use when lamdba fucnitons called.\n",
    "x = 10\n",
    "square = lambda n: n * n\n",
    "print(square(x))\n",
    "\n",
    "They have access to variables from the enclosing scope just like regular functions. This behavior is known as \"lexical scoping\" or \"closure\" in Python.\n",
    "def outer_function(x):\n",
    "    y = 10\n",
    "   square = lambda n: n * x * y\n",
    "   return square\n",
    "\n",
    "multiply=outer_function(5)\n",
    "print(multiply(3))\n",
    "output : 150\n",
    "\n",
    "If a variable is created after the lambda function is created, the lambda function will not be able to access it.\n",
    "x = 10\n",
    "square = lambda n: n * n\n",
    "y = 20\n",
    "print(square(y))\n",
    "output :TypeError: unbound local variable 'y' referenced\n"
   ]
  },
  {
   "cell_type": "code",
   "execution_count": null,
   "metadata": {},
   "outputs": [],
   "source": [
    "#6. Write a lambda function to calculate the square of a given number.\n",
    "#Answer:\n",
    "x = int(input(\"Enter the number to get square of number \"))\n",
    "square = lambda n: n * n\n",
    "print(square(x))"
   ]
  },
  {
   "cell_type": "code",
   "execution_count": null,
   "metadata": {},
   "outputs": [],
   "source": [
    "#7. Create a lambda function to find the maximum value in a list of integers.\n",
    "list1=[10,100,20,650,82,86]\n",
    "max_value = lambda x: max(x)\n",
    "print(\"Max value of List is \",max_value(list1))"
   ]
  },
  {
   "cell_type": "code",
   "execution_count": null,
   "metadata": {},
   "outputs": [],
   "source": [
    "#8. Implement a lambda function to filter out all the even numbers from a list of integers.\n",
    "list_num=[2,3,14,24,13,15,86,95]\n",
    "Even_values= list(filter(lambda x: (x%2 == 0), list_num))\n",
    "print(Even_values)"
   ]
  },
  {
   "cell_type": "code",
   "execution_count": null,
   "metadata": {},
   "outputs": [],
   "source": [
    "#9. Write a lambda function to sort a list of strings in ascending order based on the length of each string.\n",
    "list_num=[2,3,14,24,13,15,86,95]\n",
    "sorted_values= list(sorted(list_num, key= lambda x: x ))\n",
    "print(sorted_values)"
   ]
  },
  {
   "cell_type": "code",
   "execution_count": null,
   "metadata": {},
   "outputs": [],
   "source": [
    "# 10. Create a lambda function that takes two lists as input and returns a new list containing the common elements between the two lists.\n",
    "list1=[2,3,14,24,13,15,86,95]\n",
    "list2=[10,14,20,650,82,86,2,95]\n",
    "common_elements = list(filter(lambda x: x in list2, list1))\n",
    "print(common_elements)"
   ]
  },
  {
   "cell_type": "code",
   "execution_count": null,
   "metadata": {},
   "outputs": [],
   "source": [
    "#11. Write a recursive function to calculate the factorial of a given positive integer.\n",
    "def factorial(n):\n",
    "    if n == 0 or n == 1:\n",
    "        return 1\n",
    "    else:\n",
    "        return n * factorial(n - 1)\n",
    "\n",
    "num=int(input(\"Provide the positive number to find the factorial \"))\n",
    "print(f\"The factorial of {num} is: {factorial(num)}\")\n"
   ]
  },
  {
   "cell_type": "code",
   "execution_count": null,
   "metadata": {},
   "outputs": [],
   "source": [
    "#12. Implement a recursive function to compute the nth Fibonacci number.\n",
    "def fibonacci(n):\n",
    "  if n == 0:\n",
    "    return 0\n",
    "  elif n == 1:\n",
    "    return 1\n",
    "  else:\n",
    "    return fibonacci(n - 1) + fibonacci(n - 2)\n",
    "\n",
    "fibonacci(15)"
   ]
  },
  {
   "cell_type": "code",
   "execution_count": null,
   "metadata": {},
   "outputs": [],
   "source": [
    "#13. Create a recursive function to find the sum of all the elements in a given list.\n",
    "def sum_list(list):\n",
    "  if len(list) == 0:\n",
    "    return 0\n",
    "  else:\n",
    "    return list[0] + sum_list(list[1:])\n",
    "\n",
    "\n",
    "list = [1, 2, 3, 4, 5]\n",
    "sum = sum_list(list)\n",
    "print(sum)\n"
   ]
  },
  {
   "cell_type": "code",
   "execution_count": null,
   "metadata": {},
   "outputs": [],
   "source": [
    "#14. Write a recursive function to determine whether a given string is a palindrome.\n",
    "\n",
    "def is_palindrome(string):\n",
    "  if len(string) <= 1:\n",
    "    return True\n",
    "  else:\n",
    "    return string[0] == string[-1] and is_palindrome(string[1:-1])\n",
    "\n",
    "string = \"racecar\"\n",
    "is_palindrome = is_palindrome(string)\n",
    "print(is_palindrome)\n"
   ]
  },
  {
   "cell_type": "code",
   "execution_count": null,
   "metadata": {},
   "outputs": [],
   "source": [
    "#15. Implement a recursive function to find the greatest common divisor (GCD) of two positive integers.\n",
    "def gcd(x, y):\n",
    "  if y == 0:\n",
    "    return x\n",
    "  else:\n",
    "    return gcd(y, x % y)\n",
    "\n",
    "gcd(30, 12)"
   ]
  }
 ],
 "metadata": {
  "language_info": {
   "name": "python"
  },
  "orig_nbformat": 4
 },
 "nbformat": 4,
 "nbformat_minor": 2
}
