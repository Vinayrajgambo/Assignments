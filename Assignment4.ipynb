{
 "cells": [
  {
   "cell_type": "code",
   "execution_count": null,
   "metadata": {},
   "outputs": [],
   "source": [
    "1. What exactly is []?\n",
    "Answer: It is called as square braket. it is used to represent empty list in the Python. \n",
    "An emptylist  is later used to store elements by using list methods like append and extend."
   ]
  },
  {
   "cell_type": "code",
   "execution_count": null,
   "metadata": {},
   "outputs": [],
   "source": [
    "2. In a list of values stored in a variable called spam, how would you assign the value 'hello' as the\n",
    "third value? (Assume [2, 4, 6, 8, 10] are in spam.)\n",
    "Answer:  To assign a given value 'hello' as 3rd value we use\n",
    "         spam[2]=\"hello\""
   ]
  },
  {
   "cell_type": "code",
   "execution_count": null,
   "metadata": {},
   "outputs": [],
   "source": [
    "Let's pretend the spam includes the list ['a', 'b', 'c', 'd'] for the next three queries.\n",
    "3. What is the value of spam[int(int('3' * 2) / 11)]?\n",
    "Answer: '3'*2='33'\n",
    "         int('33')=33\n",
    "         33/11=3\n",
    "         int(3)=3\n",
    "         therefore spam[3] will be 'd'"
   ]
  },
  {
   "cell_type": "code",
   "execution_count": null,
   "metadata": {},
   "outputs": [],
   "source": [
    "4. What is the value of spam[-1]?\n",
    "Answer: spam[-1]\n",
    "        output will be 'd'"
   ]
  },
  {
   "cell_type": "code",
   "execution_count": null,
   "metadata": {},
   "outputs": [],
   "source": [
    "5. What is the value of spam[:2]?\n",
    "Answer: if spam = ['a', 'b', 'c', 'd']\n",
    "       spam[0:2]\n",
    "       ['a', 'b']"
   ]
  },
  {
   "cell_type": "code",
   "execution_count": null,
   "metadata": {},
   "outputs": [],
   "source": [
    "Let's pretend bacon has the list [3.14, 'cat', 11, 'cat', True] for the next three questions.\n",
    "6. What is the value of bacon.index('cat')?\n",
    "Answer: output = 1"
   ]
  },
  {
   "cell_type": "code",
   "execution_count": null,
   "metadata": {},
   "outputs": [],
   "source": [
    "7. How does bacon.append(99) change the look of the list value in bacon?\n",
    "Answer: 99 will to added in the list\n",
    "        [3.14, 'cat', 11, 'cat', True,99]"
   ]
  },
  {
   "cell_type": "code",
   "execution_count": null,
   "metadata": {},
   "outputs": [],
   "source": [
    "8. How does bacon.remove('cat') change the look of the list in bacon?\n",
    "Answer: [3.14, 11, 'cat', True,99]"
   ]
  },
  {
   "cell_type": "code",
   "execution_count": null,
   "metadata": {},
   "outputs": [],
   "source": [
    "9. What are the list concatenation and list replication operators?\n",
    "Answer:list concatenation used to add 2 list to single list\n",
    "      eg: spam + bacon = ['a', 'b', 'c', 'd',3.14, 11, 'cat', True, 99]\n",
    "      List replication is used to multiply the list given number of times.\n",
    "      eg: spam*3 = ['a', 'b', 'c', 'd','a', 'b', 'c', 'd','a', 'b', 'c', 'd']"
   ]
  },
  {
   "cell_type": "code",
   "execution_count": null,
   "metadata": {},
   "outputs": [],
   "source": [
    "10. What is difference between the list methods append() and insert()?\n",
    "Answer: append() is used to add element end of the list\n",
    "        insert() is used to add element at specified index position.\n",
    "  Eg. spam = ['a', 'b', 'c', 'd']\n",
    "     spam.append('e')  output ['a', 'b', 'c', 'd','e']\n",
    "     spam.insert(1,'g') output ['a','g', 'b', 'c', 'd','e'] insert takes 2 arguments 1 is index and 2nd is value"
   ]
  },
  {
   "cell_type": "code",
   "execution_count": null,
   "metadata": {},
   "outputs": [],
   "source": [
    "11. What are the two methods for removing items from a list?\n",
    "Answer: The two menthos are\n",
    "        remove()  is used to remove specified element from list\n",
    "        pop()   is used to remove last element from the list."
   ]
  },
  {
   "cell_type": "code",
   "execution_count": null,
   "metadata": {},
   "outputs": [],
   "source": [
    "12. Describe how list values and string values are identical.\n",
    "Answer: Both are comes under same sequential data type. store sequence of elements\n",
    "        indexing is possible on both\n",
    "        slicing is possible on both\n",
    "        iteration thorugh loop is possible with both."
   ]
  },
  {
   "cell_type": "code",
   "execution_count": null,
   "metadata": {},
   "outputs": [],
   "source": [
    "13. What's the difference between tuples and lists?\n",
    "Answer: Major difference is lists are mutable and tuples are immutable.\n",
    "        lists are represented using square braket [] & tuples are represented using paranthesis ()\n",
    "        tuples are more memory efficent compared to lists because of immutablity.\n",
    "        tuples are used when immutabity of data needed. lists are used when frequent changes in data"
   ]
  },
  {
   "cell_type": "code",
   "execution_count": null,
   "metadata": {},
   "outputs": [],
   "source": [
    "14. How do you type a tuple value that only contains the integer 42?\n",
    "Answer: tuple1= (42,)"
   ]
  },
  {
   "cell_type": "code",
   "execution_count": null,
   "metadata": {},
   "outputs": [],
   "source": [
    "15. How do you get a list value's tuple form? How do you get a tuple value's list form?\n",
    "Answer: \n",
    "my_list = [1, 2, 3]\n",
    "my_tuple = tuple(my_list)\n",
    "print(my_tuple)\n",
    "my_tuple = (1, 2, 3)\n",
    "my_list = list(my_tuple)\n",
    "print(my_list)"
   ]
  },
  {
   "cell_type": "code",
   "execution_count": null,
   "metadata": {},
   "outputs": [],
   "source": [
    "16. Variables that \"contain\" list values are not necessarily lists themselves. Instead, what do they\n",
    "contain?\n",
    "Answer: They are refering to List objects insted of list values directly."
   ]
  },
  {
   "cell_type": "code",
   "execution_count": null,
   "metadata": {},
   "outputs": [],
   "source": [
    "17. How do you distinguish between copy.copy() and copy.deepcopy()?\n",
    "Answer: copy.copy() creates a new list object, but the elements of the new list are references to the same objects of the original list.\n",
    "                    So the changes made to these objects will be reflected in both the original list and the copied list\n",
    "        copy.deepcopy() creates a completely independent copy of the original object.\n",
    "                        Modifying the copied list or any of its nested objects will not affect the original list or its nested objects."
   ]
  }
 ],
 "metadata": {
  "language_info": {
   "name": "python"
  },
  "orig_nbformat": 4
 },
 "nbformat": 4,
 "nbformat_minor": 2
}
