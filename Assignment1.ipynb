{
 "cells": [
  {
   "cell_type": "code",
   "execution_count": null,
   "metadata": {},
   "outputs": [],
   "source": [
    "'''1. In the below elements which of them are values or an expression? eg:- values can be integer or string and expressions will be mathematical operators.\n",
    "*          Expression (mathematical operator)\n",
    "'hello'    Value\n",
    "-87.8      value\n",
    "-          Expression\n",
    "/          Expression \n",
    "+\t       Expression\n",
    "6          Expression'''\n"
   ]
  },
  {
   "cell_type": "code",
   "execution_count": null,
   "metadata": {},
   "outputs": [],
   "source": [
    "'''2. What is the difference between string and variable?\n",
    "A.  String is a datatype which is used to represent sequence of characters.\n",
    "      Variable is used to store any data type in memory even string.'''\n"
   ]
  },
  {
   "cell_type": "code",
   "execution_count": null,
   "metadata": {},
   "outputs": [],
   "source": [
    "'''3. Describe three different data types.\n",
    "A.   Sequence type:   It is used to represent sequence of characters and numbers in string,       list, tuple  \n",
    "       Numeric: it is used to represent numbers in int, float and complex\n",
    "       Bool:  it is used to represent Boolean values such as True or False.\n",
    "'''"
   ]
  },
  {
   "cell_type": "code",
   "execution_count": null,
   "metadata": {},
   "outputs": [],
   "source": [
    "'''4. What is an expression made up of? What do all expressions do?\n",
    "A.   Expressions are made up of variables,  operators and functions. Expressions are used to perform operation on data. \n",
    "'''"
   ]
  },
  {
   "cell_type": "code",
   "execution_count": null,
   "metadata": {},
   "outputs": [],
   "source": [
    "'''5. This assignment statements, like spam = 10. What is the difference between an expression and a statement?\n",
    "A. Expression produce a value. It has combination of variables, operators and functions.\n",
    "     Whereas assignment statement is assigning a value to it. Statement is used to perform an action \n",
    "'''"
   ]
  },
  {
   "cell_type": "code",
   "execution_count": null,
   "metadata": {},
   "outputs": [],
   "source": [
    "'''6. After running the following code, what does the variable bacon contain?\n",
    "bacon = 22\n",
    "bacon + 1\n",
    "A.\t Bacon=23\n",
    "'''"
   ]
  },
  {
   "cell_type": "code",
   "execution_count": null,
   "metadata": {},
   "outputs": [],
   "source": [
    "'''7. What should the values of the following two terms be?\n",
    "'spam' + 'spamspam'  \n",
    "'spam' * 3    = \n",
    "A. 'spam' + 'spamspam'  = ‘spamspamspam’\n",
    "     ‘spam’*3 =  ‘spamspamspam’\n",
    "'''"
   ]
  },
  {
   "cell_type": "code",
   "execution_count": null,
   "metadata": {},
   "outputs": [],
   "source": [
    "'''8. Why is eggs a valid variable name while 100 is invalid?\n",
    "A. Variable should start with characters(small or capital) like eggs and variable cannot start with numbers like 100\n",
    "'''"
   ]
  },
  {
   "cell_type": "code",
   "execution_count": null,
   "metadata": {},
   "outputs": [],
   "source": [
    "'''9. What three functions can be used to get the integer, floating-point number, or string version of a value?\n",
    "A. int(), float(), string().\n",
    "'''"
   ]
  },
  {
   "cell_type": "code",
   "execution_count": null,
   "metadata": {},
   "outputs": [],
   "source": [
    "'''10. Why does this expression cause an error? How can you fix it?\n",
    "'I have eaten ' + 99 + ' burritos.'\n",
    "A.   Strings datatype and integer datatype cannot be added.\n",
    "       'I have eaten ' + ‘99’ + ' burritos.'\n",
    "'''"
   ]
  }
 ],
 "metadata": {
  "kernelspec": {
   "display_name": "Python 3",
   "language": "python",
   "name": "python3"
  },
  "language_info": {
   "name": "python",
   "version": "3.8.17"
  },
  "orig_nbformat": 4
 },
 "nbformat": 4,
 "nbformat_minor": 2
}
