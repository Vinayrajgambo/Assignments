{
 "cells": [
  {
   "cell_type": "code",
   "execution_count": null,
   "metadata": {},
   "outputs": [],
   "source": [
    "#1. What are keywords in python? Using the keyword library, print all the python keywords.\n",
    "#Answer: Keywords are reserved words have predefined meaning which are not used for other functions.\n",
    "#        These keywords has specific purposes and have built-in functionality in python programming language.\n",
    "\n",
    "import keyword\n",
    "keywords=keyword.kwlist\n",
    "print(keywords)\n"
   ]
  },
  {
   "cell_type": "code",
   "execution_count": null,
   "metadata": {},
   "outputs": [],
   "source": [
    "2. What are the rules to create variables in python?\n",
    "Answer: A variable name must start with a letter or the underscore character\n",
    "        A variable name cannot start with a number\n",
    "        A variable name can only contain alpha-numeric characters and underscores (A-z, 0-9, and _ )\n",
    "        Variable names are case-sensitive (ram, Ram and RAM are three different variables)"
   ]
  },
  {
   "cell_type": "code",
   "execution_count": null,
   "metadata": {},
   "outputs": [],
   "source": [
    "3. What are the standards and conventions followed for the nomenclature of variables in\n",
    "python to improve code readability and maintainability?\n",
    "Answer: Be clear and concise name.\n",
    "        By Using pothole_case_naming uses lowercase words separated by underscores\n",
    "        By Using camelCase or CamelCase uses capitalization of the first letter of words in a variable name to make it easier to read.\n",
    "        By avoiding Pyhton Reserverd words( Keywords) as variables.\n",
    "        By Avoiding global variables as much as possible, as they can lead to code that is difficult to understand and maintain.\n"
   ]
  },
  {
   "cell_type": "code",
   "execution_count": null,
   "metadata": {},
   "outputs": [],
   "source": [
    "Q.4. What will happen if a keyword is used as a variable name?\n",
    "Answer:  True = \"ramu\"\n",
    "         SyntaxError: cannot assign to True"
   ]
  },
  {
   "cell_type": "code",
   "execution_count": null,
   "metadata": {},
   "outputs": [],
   "source": [
    "Q.5. For what purpose def keyword is used?\n",
    "Answer: To define a Used defined funciton we def keyword."
   ]
  },
  {
   "cell_type": "code",
   "execution_count": null,
   "metadata": {},
   "outputs": [],
   "source": [
    "Q.6. What is the operation of this special character ‘\\’?\n",
    "ANswer: In Python strings, the backslash \"\\\" is a special character, also called the \"escape\" character.\n",
    "        It is used in representing certain whitespace characters: \"\\t\" is a tab, \"\\n\" is a newline, and \"\\r\" is a carriage return.\n",
    "      Eg:  print(\"Hello\\nWorld\")           # Output: Hello\n",
    "                                           #         World\n",
    "           print(\"Hello\\t\\tWorld\")         # Output: Hello     World\n",
    "           print(\"This is a backslash: \\\\\")  # Output: This is a backslash: \\\n",
    "           print(\"She said, \\\"Hello!\\\"\")    # Output: She said, \"Hello!\"\n",
    "           print(\"Back\\bSpace\")            # Output: BacSpace\n",
    "           print(\"Windows\\r\\nLine\")        # Output:  Line\n"
   ]
  },
  {
   "cell_type": "code",
   "execution_count": null,
   "metadata": {},
   "outputs": [],
   "source": [
    "Q.7. Give an example of the following conditions:\n",
    "(i) Homogeneous list\n",
    "(ii) Heterogeneous set\n",
    "(iii) Homogeneous tuple\n",
    "Answer:Homogeneous list means only contain single data type elements eg: homo_list=[1,2,3,2,5,8,9]\n",
    "   Heterogeneous set means it contains multiple data type elements eg: het_set={2,\"add\",3,'sun'}\n",
    "   Homogeneous tuple means onlt contains single data type elements eg: homo_tuple=(\"raj\",\"ravi\",\"ramesh\")"
   ]
  },
  {
   "cell_type": "code",
   "execution_count": null,
   "metadata": {},
   "outputs": [],
   "source": [
    "Q.8. Explain the mutable and immutable data types with proper explanation & examples.\n",
    "Answer: Mutable data types : These are mutable in nature i.e After creation the data type based on requirement we can change the elements, add the elements, delete the elements.\n",
    "       eg: list, dictionary\n",
    "       Immutable datatypes: Thses are immutable i.e we cannot change or add or delete the elements from the datatype. when we try to change then a new object will be created with updated values.\n",
    "       eg: tuple, strings"
   ]
  },
  {
   "cell_type": "code",
   "execution_count": null,
   "metadata": {},
   "outputs": [],
   "source": [
    "''' Q.9. Write a code to create the given structure using only for loop.\n",
    "         *\n",
    "        ***\n",
    "       *****\n",
    "      *******\n",
    "     ********* '''\n",
    "num_rows=5\n",
    "for i in range(1,num_rows+1):\n",
    "  for j in range(num_rows-i):\n",
    "    print(\" \", end=\"\")\n",
    "  for k in range(2*i-1):\n",
    "    print(\"*\",end=\"\")\n",
    "  print()"
   ]
  },
  {
   "cell_type": "code",
   "execution_count": null,
   "metadata": {},
   "outputs": [],
   "source": [
    "'''Q.10. Write a code to create the given structure using while loop.\n",
    "|||||||||\n",
    " |||||||\n",
    "  |||||\n",
    "   |||\n",
    "    |  '''\n",
    "con='|'\n",
    "num=int(input(\"Enter the number\"))\n",
    "s=num\n",
    "while num>=1:\n",
    "  st = num*con\n",
    "  print(st.center(s,' '))\n",
    "  num=num-2\n"
   ]
  }
 ],
 "metadata": {
  "language_info": {
   "name": "python"
  },
  "orig_nbformat": 4
 },
 "nbformat": 4,
 "nbformat_minor": 2
}
