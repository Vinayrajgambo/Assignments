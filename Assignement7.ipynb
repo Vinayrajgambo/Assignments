{
 "cells": [
  {
   "cell_type": "code",
   "execution_count": null,
   "metadata": {},
   "outputs": [],
   "source": [
    "'''Q.1. Create two int type variables, apply addition, subtraction, division and multiplications\n",
    "and store the results in variables. Then print the data in the following format by calling the\n",
    "variables:\n",
    "First variable is __ & second variable is __.\n",
    "Addition: __ + __ = __\n",
    "Subtraction: __ - __ = __\n",
    "Multiplication: __ * __ = __\n",
    "Division: __ / __ = __   '''\n",
    "num1=50\n",
    "num2=7\n",
    "add=num1+num2\n",
    "sub=num1-num2\n",
    "mul=num1*num2\n",
    "div=num1/num2\n",
    "\n",
    "print(f\"First varialbe is {num1} & second variable is {num2}\")\n",
    "print(f\"Addition: {num1} + {num2} = {add}\")\n",
    "print(f\"Subtraction: {num1} - {num2} = {sub}\")\n",
    "print(f\"Multiplication: {num1} * {num2} = {mul}\")\n",
    "print(f\"Division: {num1} / {num2} = {div}\")"
   ]
  },
  {
   "cell_type": "code",
   "execution_count": null,
   "metadata": {},
   "outputs": [],
   "source": [
    "Q.2. What is the difference between the following operators:\n",
    "(i) ‘/’ & ‘//’\n",
    "(ii) ‘**’ & ‘^’\n",
    "Answer: '/' is used for regular division, and it returns a floating-point results.  5/2 = 2.5\n",
    "      '//' is used for floor division, and it returns an integer results (rounded down)  5//2 = 2\n",
    "      '**' is used for exponentiation, and it raises the left operand to the power of the right operand 5**2 =25\n",
    "      '^' is used for bitwise XOR, performing a bitwise XOR operation between the binary representation of the operands. 5^2= 7\n"
   ]
  },
  {
   "cell_type": "code",
   "execution_count": null,
   "metadata": {},
   "outputs": [],
   "source": [
    "Q.3. List the logical operators.\n",
    "\n",
    "Answer: and: Returns True if both operands are True, otherwise False.  Eg: True and False = False\n",
    "        or: Returns True if at least one operand is True, otherwise False.  Eg: True or False = True\n",
    "        not: Returns the negation of the operand. If True, returns False, and if False, returns True.  Eg: not True = False"
   ]
  },
  {
   "cell_type": "code",
   "execution_count": null,
   "metadata": {},
   "outputs": [],
   "source": [
    "Q.4. Explain right shift operator and left shift operator with examples.\n",
    "Answer: Right shift operator '>>' is used to shift the bits of number to the right by specified number of positions.\n",
    "        eg: num=32\n",
    "            shift_right = num>>2\n",
    "            print(shift_right)  output: 32= 100000 >>2 : 001000 = 8\n",
    "            8\n",
    "        Left shift operator '<<' is used to shift the bits of number to the left by specified number of positions.\n",
    "        eg: num=5\n",
    "            left_right = num<<2\n",
    "            print(left_right)  output: 5= 101 <<2 : 10100 = 20\n",
    "            20"
   ]
  },
  {
   "cell_type": "code",
   "execution_count": null,
   "metadata": {},
   "outputs": [],
   "source": [
    "'''Q.5. Create a list containing int type data of length 15. Then write a code to check if 10 is\n",
    "present in the list or not.'''\n",
    "list_inttype = [1,2,3,4,5,6,7,8,9,10,11,12,13,14,15]\n",
    "if 10 in list_inttype:\n",
    "  print(\"10 is present the list\")"
   ]
  }
 ],
 "metadata": {
  "language_info": {
   "name": "python"
  },
  "orig_nbformat": 4
 },
 "nbformat": 4,
 "nbformat_minor": 2
}
