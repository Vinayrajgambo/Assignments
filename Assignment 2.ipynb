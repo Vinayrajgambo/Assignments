{
 "cells": [
  {
   "cell_type": "code",
   "execution_count": 6,
   "id": "fe87f6fc",
   "metadata": {
    "collapsed": true
   },
   "outputs": [
    {
     "name": "stdout",
     "output_type": "stream",
     "text": [
      "Greetings!\n"
     ]
    }
   ],
   "source": [
    "1.What are the two values of the Boolean data type? How do you write them?\n",
    "A. True and False are 2 Boolean data type which means yes and no. We write as “True” and “False”\n"
   ]
  },
  {
   "cell_type": "code",
   "execution_count": null,
   "id": "8bd19a6f",
   "metadata": {},
   "outputs": [],
   "source": [
    "2. What are the three different types of Boolean operators?\n",
    "A.  AND , OR and NOT are three different types of Boolean Operators.\n"
   ]
  },
  {
   "cell_type": "code",
   "execution_count": null,
   "id": "0e89c23a",
   "metadata": {},
   "outputs": [],
   "source": [
    "3. Make a list of each Boolean operator's truth tables (i.e. every possible combination of Boolean values for the operator and what it evaluate ).\n",
    "A. \n",
    "A\t      B\t  A AND B\tA OR B\t NOT A\n",
    "True\tTrue\tTrue\tTrue\tFalse\n",
    "True\tFalse\tFalse\tTrue\tFalse\n",
    "False\tTrue\tFalse\tTrue\tTrue\n",
    "False\tFalse\tFalse\tFalse\tTrue\n",
    "A AND B – Represents AND operator\n",
    "A OR B – Represents OR operator\n",
    "NOT A – Represents NOT operator\n"
   ]
  },
  {
   "cell_type": "code",
   "execution_count": null,
   "id": "b8ead247",
   "metadata": {},
   "outputs": [],
   "source": [
    "4. What are the values of the following expressions?\n",
    "(5 > 4) and (3 == 5)\n",
    "not (5 > 4)\n",
    "(5 > 4) or (3 == 5)\n",
    "not ((5 > 4) or (3 == 5))\n",
    "(True and True) and (True == False)\n",
    "(not False) or (not True)\n",
    "\n",
    "Answer. (5 > 4) and (3 == 5)   == False\n",
    "not (5 > 4)    == False\n",
    "(5 > 4) or (3 == 5)  == True\n",
    "not ((5 > 4) or (3 == 5)) == True\n",
    "(True and True) and (True == False)    ==  False \n",
    "(not False) or (not True)  == True\n"
   ]
  },
  {
   "cell_type": "code",
   "execution_count": null,
   "id": "cc3d6023",
   "metadata": {},
   "outputs": [],
   "source": [
    "5. What are the six comparison operators?\n",
    "A. Equal to  ==\n",
    "     Not equal to !=\n",
    "     Greater than  >\n",
    "     Less than  <\n",
    "     Greater than equal to  >=\n",
    "     Less than equal to <=\n"
   ]
  },
  {
   "cell_type": "code",
   "execution_count": null,
   "id": "dfcf19a8",
   "metadata": {},
   "outputs": [],
   "source": [
    "6. How do you tell the difference between the equal to and assignment operators?Describe a condition and when you would use one. \n",
    "A. Equal to and Assignment operator are different with representation and operations\n",
    "    Equal to is used to measure the quantities like A==B , T==F , 5==4, ‘ram’==’ravi’ etc\n",
    "    Assignment operator used to assign a value to variable A= 5, a= ‘ram’, etc\n",
    "Example :   a= 10 , b= 55\n",
    "                    if a==b:\n",
    "                        print(“a”)\n"
   ]
  },
  {
   "cell_type": "code",
   "execution_count": null,
   "id": "6b4ff1b4",
   "metadata": {},
   "outputs": [],
   "source": [
    "7. Identify the three blocks in this code:\n",
    "spam = 0\n",
    "if spam == 10:\n",
    "print('eggs')\n",
    "if spam > 5:\n",
    "print('bacon')\n",
    "else:\n",
    "print('ham')\n",
    "print('spam')\n",
    "print('spam')\n",
    "\n",
    "A.  Block A --------------------------------\n",
    "       spam = 0\n",
    "    Block B-------------------------------\n",
    "   if spam == 10:\n",
    "         print('eggs')\n",
    "    Block C ---------------------------------\n",
    "   if spam > 5:\n",
    "     print('bacon')\n",
    "   else:\n",
    "     print('ham')\n",
    "   print('spam')\n"
   ]
  },
  {
   "cell_type": "code",
   "execution_count": null,
   "id": "bb368c13",
   "metadata": {},
   "outputs": [],
   "source": [
    "\"\"\"\"8. Write code that prints Hello if 1 is stored in spam, \n",
    "prints Howdy if 2 is stored in spam, and prints Greetings! if anything else is stored in spam.\"\"\"\"\"\n",
    "\n",
    "spam = 45\n",
    "if spam==1:\n",
    "    print('Hello')\n",
    "elif spam==2:\n",
    "    print('Howdy')\n",
    "else:\n",
    "    print('Greetings!')"
   ]
  },
  {
   "cell_type": "code",
   "execution_count": null,
   "id": "870f3174",
   "metadata": {},
   "outputs": [],
   "source": [
    "#9.If your programme is stuck in an endless loop, what keys you’ll press?\n",
    "#Answer= \"ctrl+c\" - is used to to stop endless loop."
   ]
  },
  {
   "cell_type": "code",
   "execution_count": null,
   "id": "ae97346c",
   "metadata": {},
   "outputs": [],
   "source": [
    "10. How can you tell the difference between break and continue?\n",
    "Answer: break is used terminate the complete lines of code after break statement.\n",
    "        continue is used to skip remining code within the loop fo the current iteration and moves to next iteration."
   ]
  },
  {
   "cell_type": "code",
   "execution_count": 11,
   "id": "91c70e3d",
   "metadata": {
    "collapsed": true
   },
   "outputs": [
    {
     "ename": "IndentationError",
     "evalue": "unindent does not match any outer indentation level (<tokenize>, line 8)",
     "output_type": "error",
     "traceback": [
      "\u001b[1;36m  File \u001b[1;32m\"<tokenize>\"\u001b[1;36m, line \u001b[1;32m8\u001b[0m\n\u001b[1;33m    ex: output of range(10) , range(0,10) & range(0,10,1)\u001b[0m\n\u001b[1;37m    ^\u001b[0m\n\u001b[1;31mIndentationError\u001b[0m\u001b[1;31m:\u001b[0m unindent does not match any outer indentation level\n"
     ]
    }
   ],
   "source": [
    "#11. In a for loop, what is the difference between range(10), range(0, 10), and range(0, 10, 1)?\n",
    "Answer : range(10) - It is used generates values from 0 to 9, start value = 0, end value= 10, step value = 1\n",
    "         start value is included , end value is excluded, step value is used to provide step increments.\n",
    "         range(0,10) - It is used generates values from 0 to 9, start value = 0, end value= 10, step value = 1\n",
    "         start value is included , end value is excluded, step value is used to provide step increments.\n",
    "         range(0,10,1)- It is used generates values from 0 to 9, start value = 0, end value= 10, step value = 1\n",
    "         start value is included , end value is excluded, step value is used to provide step increments.\n",
    "        Based on changed the 3 values output of range function changes.\n",
    "        ex: output of range(10) , range(0,10) & range(0,10,1) \n",
    "            0\n",
    "            1\n",
    "            2\n",
    "            3\n",
    "            4\n",
    "            5\n",
    "            6\n",
    "            7\n",
    "            8\n",
    "            9"
   ]
  },
  {
   "cell_type": "code",
   "execution_count": 2,
   "id": "4517330c",
   "metadata": {
    "collapsed": true
   },
   "outputs": [
    {
     "name": "stdout",
     "output_type": "stream",
     "text": [
      "0\n",
      "1\n",
      "2\n",
      "3\n",
      "4\n",
      "5\n",
      "6\n",
      "7\n",
      "8\n",
      "9\n",
      "10\n"
     ]
    }
   ],
   "source": [
    "#12. Write a short program that prints the numbers 1 to 10 using a for loop. \n",
    "#Then write an equivalent program that prints the numbers 1 to 10 using a while loop.\n",
    "\n",
    "for i in range(11):\n",
    "    print(i)\n",
    "    \n",
    "    \n",
    "num=1\n",
    "while num <= 10:\n",
    "    print(num)\n",
    "    num += 1\n",
    "\n",
    "    "
   ]
  },
  {
   "cell_type": "code",
   "execution_count": null,
   "id": "70bc3b29",
   "metadata": {},
   "outputs": [],
   "source": [
    "13. If you had a function named bacon() inside a module named spam, \n",
    "how would you call it after importing spam?\n",
    "Anwser:  import spam\n",
    "         spam.bacon()"
   ]
  },
  {
   "cell_type": "code",
   "execution_count": null,
   "id": "53492f85",
   "metadata": {},
   "outputs": [],
   "source": []
  }
 ],
 "metadata": {
  "kernelspec": {
   "display_name": "Python 3 (ipykernel)",
   "language": "python",
   "name": "python3"
  },
  "language_info": {
   "codemirror_mode": {
    "name": "ipython",
    "version": 3
   },
   "file_extension": ".py",
   "mimetype": "text/x-python",
   "name": "python",
   "nbconvert_exporter": "python",
   "pygments_lexer": "ipython3",
   "version": "3.11.0"
  }
 },
 "nbformat": 4,
 "nbformat_minor": 5
}
