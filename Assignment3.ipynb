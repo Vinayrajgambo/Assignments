{
 "cells": [
  {
   "cell_type": "code",
   "execution_count": null,
   "metadata": {},
   "outputs": [],
   "source": [
    "''' 1. Why are functions advantageous to have in your programs?\n",
    "Answer:  Functions used to use the same code multiple time in a program without writing multiple lines of code.\n",
    "         Functions can simplyfy the code by dividing the reusable code.\n",
    "         Some special functions are used to reduce the number of lines of code. like MAP, Filter, Reduce\n",
    "         Functions can be used within the fuction to solve recussions problems\n",
    "         Functions can be used anywhere and can hide the internal details of implementation.\n",
    "         Functions can make code easier to debug. '''"
   ]
  },
  {
   "cell_type": "code",
   "execution_count": null,
   "metadata": {},
   "outputs": [],
   "source": [
    "'''2. When does the code in a function run: when it&#39;s specified or when it&#39;s called?\n",
    "Answer:  Function block can be executed/run only when it called. Cannot run when specified or defied.'''"
   ]
  },
  {
   "cell_type": "code",
   "execution_count": null,
   "metadata": {},
   "outputs": [],
   "source": [
    "'''3. What statement creates a function?\n",
    "Answer: def functionname():\n",
    "            ------\n",
    "            -----\n",
    "            -----\n",
    "        Def and functionname(parameter) create a function.'''"
   ]
  },
  {
   "cell_type": "code",
   "execution_count": null,
   "metadata": {},
   "outputs": [],
   "source": [
    "'''4. What is the difference between a function and a function call?\n",
    "Answer: Function is used to define and create a funciton.\n",
    "        Function call is used to run the function which previously created/defined.\n",
    "        def name():\n",
    "           print(\"hello world\")\n",
    "\n",
    "        name()\n",
    "\n",
    "        Def name() is Function.\n",
    "        name() is Function call'''"
   ]
  },
  {
   "cell_type": "code",
   "execution_count": null,
   "metadata": {},
   "outputs": [],
   "source": [
    "\n",
    "'''5. How many global scopes are there in a Python program? How many local scopes?\n",
    "Answer: There is only one globle scope in python programming if a globle variable is declared it can be accessed anywhere in the program.\n",
    "        where as local scope depends on number of functions where local variale are declared which can be used inside the funciton.'''"
   ]
  },
  {
   "cell_type": "code",
   "execution_count": null,
   "metadata": {},
   "outputs": [],
   "source": [
    "'''6. What happens to variables in a local scope when the function call returns?\n",
    "Answer: Variables in a Local scope are not accessible outside the fucntion.'''"
   ]
  },
  {
   "cell_type": "code",
   "execution_count": null,
   "metadata": {},
   "outputs": [],
   "source": [
    "'''7. What is the concept of a return value? Is it possible to have a return value in an expression?\n",
    "Answer: Return value is a value which funciton can send back or return after exection.\n",
    "        yes it is possible to return the value from an expresstion. '''"
   ]
  },
  {
   "cell_type": "code",
   "execution_count": null,
   "metadata": {},
   "outputs": [],
   "source": [
    "'''8. If a function does not have a return statement, what is the return value of a call to that function?\n",
    "Answer:  if a function does not have a return statement, the return value of a call to that function will be \"None\".'''"
   ]
  },
  {
   "cell_type": "code",
   "execution_count": null,
   "metadata": {},
   "outputs": [],
   "source": [
    "'''9. How do you make a function variable refer to the global variable?\n",
    "Answer:  By using \"global\" keyword we can refer the global variable as function variable'''"
   ]
  },
  {
   "cell_type": "code",
   "execution_count": null,
   "metadata": {},
   "outputs": [],
   "source": [
    "'''10. What is the data type of None?\n",
    "Answer: The datatype of None is called Nonetype.'''"
   ]
  },
  {
   "cell_type": "code",
   "execution_count": null,
   "metadata": {},
   "outputs": [],
   "source": [
    "'''11. What does the sentence import areallyourpetsnamederic do?\n",
    "Answer: areallyourpetsnamederic- it does not import anything in python\n",
    "        Generally import keyword used to import the libraries/modules '''"
   ]
  },
  {
   "cell_type": "code",
   "execution_count": null,
   "metadata": {},
   "outputs": [],
   "source": [
    "'''12. If you had a bacon() feature in a spam module, what would you call it after importing spam?\n",
    "Answer: import spam\n",
    "        spam.bacon()'''"
   ]
  },
  {
   "cell_type": "code",
   "execution_count": null,
   "metadata": {},
   "outputs": [],
   "source": [
    "'''13. What can you do to save a programme from crashing if it encounters an error?\n",
    "Answer: Make the copy of code, try to solve the code by using try and except block\n",
    "        Analyse the block where error can occur, place that block in try block and create except error scenarios like zerodividebyerror,valueerror.'''"
   ]
  },
  {
   "cell_type": "code",
   "execution_count": null,
   "metadata": {},
   "outputs": [],
   "source": [
    "'''14. What is the purpose of the try clause? What is the purpose of the except clause?\n",
    "Answer: Try clause is used to find the error from the block of code\n",
    "        except block is used to skip the specified error from try block and execute the remaining program.'''"
   ]
  }
 ],
 "metadata": {
  "language_info": {
   "name": "python"
  },
  "orig_nbformat": 4
 },
 "nbformat": 4,
 "nbformat_minor": 2
}
