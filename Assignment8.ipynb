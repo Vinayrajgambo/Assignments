{
 "cells": [
  {
   "cell_type": "code",
   "execution_count": null,
   "metadata": {},
   "outputs": [],
   "source": [
    "\n",
    "1. In Python, what is the difference between a built-in function and a user-defined function? Provide an\n",
    "example of each.\n",
    "Answer: Built-in funcitons are already provided by python. Which are ready to use based on user requirements. eg: print(),input(),sum(),len(),range() etc.\n",
    "        User defined fucntions are created to user based on his specific requiremnets by using funciton systax using def keyword.\n",
    "        eg. def cal_area(length, width):\n",
    "                return length*width\n",
    "            Area1=cal_area(5,7)\n",
    "            print(Area1)"
   ]
  },
  {
   "cell_type": "code",
   "execution_count": null,
   "metadata": {},
   "outputs": [],
   "source": [
    "2. How can you pass arguments to a function in Python? Explain the difference between positional\n",
    "arguments and keyword arguments.\n",
    "Answer:  We can pass arguments to a funcitons in many ways. while defining a function\n",
    "         we can speficy the paramerters/arguments. when calling a function we need to pass values into the calling funciton based no. of parameters present the fucntion.\n",
    "         Positional arguments: It is purely depend on the position of paramenter in the function defination. if position of parameter changed the value will be assigned to other parameter.\n",
    "         Keyword arguments:Unlike positional arguments it will specify to which parameter the value has been assigned is known as keyword arhguments.\n",
    "         eg:  def my_details(name, age)\n",
    "                 print(f\"My name is {name} and age is {age}\")\n",
    "              my_details(\"vinay\",age=24)\n",
    "\n",
    "              here name is a positional argument.\n",
    "                   age is a keyword argument.\n",
    "\n"
   ]
  },
  {
   "cell_type": "code",
   "execution_count": null,
   "metadata": {},
   "outputs": [],
   "source": [
    "3. What is the purpose of the return statement in a function? Can a function have multiple return\n",
    "statements? Explain with an example.\n",
    "Answer: At the end of every function python will return something as output of funtion. after return statement python will terminate the function.\n",
    "        If we dont have return statement we will not get clarity that functions executed or not.\n",
    "        Return statement serves multiple purposes returning a value, exiting the function etc.\n",
    "        we can have multiple return statements based on condions it can be exucuted. but once return statement executed python terminate the function.\n",
    "        and multiple return statements are available without any condions first executed return statement will return the value.\n",
    " eg.\n",
    "def divide(a, b):\n",
    "    if b == 0:\n",
    "    return \"Cannot divide by zero.\"\n",
    "else:\n",
    "    result = a / b\n",
    "    return result\n",
    "\n",
    "# Calling the function with different arguments\n",
    "result1 = divide(10, 2)\n",
    "result2 = divide(5, 0)\n",
    "\n",
    "print(result1)  # Output: 5.0\n",
    "print(result2)  # Output: Cannot divide by zero.\n"
   ]
  },
  {
   "cell_type": "code",
   "execution_count": null,
   "metadata": {},
   "outputs": [],
   "source": [
    "4. What are lambda functions in Python? How are they different from regular functions? Provide an\n",
    "example where a lambda function can be useful.\n",
    "Answer: Lamdba funciton are known as anonymous functions, are defined by using lambda keyword unlike functions use def keyword.\n",
    "        lambda funcitons can have multiple arguments but has only single expression to execute. but functions can can have multiple expressions.\n",
    "        Also lambda functions does'nt have name called as anonymous funcitons. whereas functions we define names by def keyword.\n",
    "\n",
    "        Lambda funtions are particularly useful when we need to define simple funcitons for short peiod of time and usually used where it is created.\n",
    "\n",
    "eg:\n",
    "def add_regular(a, b):\n",
    "    return a + b\n",
    "add_lambda = lambda a, b: a + b\n",
    "\n",
    "\n",
    "result1 = add_regular(5, 3)\n",
    "print(result1)  # Output: 8\n",
    "\n",
    "\n",
    "result2 = add_lambda(5, 3)\n",
    "print(result2)  # Output: 8\n",
    "\n"
   ]
  },
  {
   "cell_type": "code",
   "execution_count": null,
   "metadata": {},
   "outputs": [],
   "source": [
    "5. How does the concept of \"scope\" apply to functions in Python? Explain the difference between local\n",
    "scope and global scope.\n",
    "Answer: The concept of \"scope\" refer to area of code where variable is accessible or used. Scope determines whether the variable is accessible within the code or not.\n",
    "       Local scope: These variable are declared inside the function and valid inside the function only. Cannot be accessed outside the defined funciton.\n",
    "   eg:  def funciton_demo():\n",
    "          x=10\n",
    "          print(\"The varaible is inside the funcitons and local varible is\" x)\n",
    "       Global scope: These variable are declared outside the funcitons or after starting the program code. called global variable. which are accesible to all the code and funcitons.\n",
    "   eg: x=10\n",
    "       def funciton_demo():\n",
    "          print(\"The varaible is inside the funcitons and local varible is\" x)"
   ]
  },
  {
   "cell_type": "code",
   "execution_count": null,
   "metadata": {},
   "outputs": [],
   "source": [
    "6. How can you use the \"return\" statement in a Python function to return multiple values?\n",
    "Answer: By using conditinal statements we can return multiple values based on condition true or false.\n",
    "       or by using list, tuple and dictionary is used to return the multiple values and unpack then based on requirement.\n",
    "      under list by accessing through index position.\n",
    "      under dictionary accessing through keys.\n",
    "      under tuple by accessing the names"
   ]
  },
  {
   "cell_type": "code",
   "execution_count": null,
   "metadata": {},
   "outputs": [],
   "source": [
    "7. What is the difference between the \"pass by value\" and \"pass by reference\" concepts when it\n",
    "comes to function arguments in Python?\n",
    "Answer: Pass by value means passing the copy of original value to the function as an argument and changes to the argument does not effect the original argument.\n",
    "        Mostly we use immutable datatypes as pass by value. eg. float, strings, tuples.\n",
    "        Pass by reference means passing the original value to the function as an argument and changes to the arguments effect the origianl argument.\n",
    "        Here mostly we use mutable datatype as pass by reference. eg. list, dictionary"
   ]
  },
  {
   "cell_type": "code",
   "execution_count": null,
   "metadata": {},
   "outputs": [],
   "source": [
    "''' 8. Create a function that can intake integer or decimal value and do following operations:\n",
    "a. Logarithmic function (log x)\n",
    "b. Exponential function (exp(x))\n",
    "c. Power function with base 2 (2x)\n",
    "d. Square root '''\n",
    "import math\n",
    "def math_func(num):\n",
    "  print(\"Logrithmic funciton of number is \", math.log(num))\n",
    "  print(\"Exponential fucntion of number is \",math.exp(num))\n",
    "  print(\"Power fucntion with base 2 is \" ,2**num)\n",
    "  print(\"Squart root of \", math.sqrt(num))\n",
    "math_func(4)\n",
    "math_func(2.5)"
   ]
  },
  {
   "cell_type": "code",
   "execution_count": null,
   "metadata": {},
   "outputs": [],
   "source": [
    "#9. Create a function that takes a full name as an argument and returns first name and last name.\n",
    "\n",
    "def func_name(Name):\n",
    "  split_names = Name.split()\n",
    "  first_name=split_names[0]\n",
    "  last_name= split_names[-1]\n",
    "  return first_name, last_name\n",
    "\n",
    "\n",
    "first_name , last_name = func_name(\"Samantha kangaroo\")\n",
    "print(\"first names is \",first_name , \"last name is \", last_name)"
   ]
  }
 ],
 "metadata": {
  "language_info": {
   "name": "python"
  },
  "orig_nbformat": 4
 },
 "nbformat": 4,
 "nbformat_minor": 2
}
